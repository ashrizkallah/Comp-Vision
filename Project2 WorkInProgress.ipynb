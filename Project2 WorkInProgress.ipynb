{
 "cells": [
  {
   "cell_type": "markdown",
   "metadata": {
    "id": "6WlxKqJ0u5-1"
   },
   "source": [
    "# Graded Assignment 2: Building a Face Recognition System with DeepFace\n",
    "\n",
    "In the digital era, face recognition systems are widely used in various applications, including security systems and social media platforms. The ability to accurately identify and authenticate individuals is crucial for enhancing safety and improving user experiences. In this graded assignment, you will build a reliable face verification and recognition system using DeepFace, a powerful library that simplifies facial recognition tasks.\n",
    "\n",
    "DeepFace leverages several advanced models, including FaceNet and VGG-Face, to generate face embeddings, which are compact and discriminative feature representations of faces. These embeddings are unique to each individual, making it easier to compare and identify faces. In this assignment, you will practice building a face verification system to confirm a person's identity and a face recognition system to identify and label individuals from a dataset.\n",
    "\n",
    "Main Objectives:\n",
    "\n",
    "- Build a Face Recognition System: Create a face recognition system capable of identifying a person from a given set of faces. This will include matching the embeddings of an unknown face to a database of known embeddings and identifying the most similar one.\n",
    "\n",
    "- Compare Models: Compare the performance of different models in face recognition and verification tasks.\n",
    "\n",
    "\n",
    "- Evaluation and Performance Analysis: Assess your findings to identify the advantages and disadvantages of your implementation.\n",
    "\n",
    "Let's get started!"
   ]
  },
  {
   "cell_type": "markdown",
   "metadata": {
    "id": "c9PudMzPvwDb"
   },
   "source": [
    "To install the DeepFace library, use the command: !pip install deepface."
   ]
  },
  {
   "cell_type": "code",
   "execution_count": 38,
   "metadata": {
    "id": "znVkkEsAN0Nz"
   },
   "outputs": [
    {
     "name": "stderr",
     "output_type": "stream",
     "text": [
      "WARNING: You are using pip version 21.2.4; however, version 24.3.1 is available.\n",
      "You should consider upgrading via the 'C:\\Users\\rizka\\OneDrive\\Desktop\\python\\python.exe -m pip install --upgrade pip' command.\n"
     ]
    },
    {
     "name": "stdout",
     "output_type": "stream",
     "text": [
      "Requirement already satisfied: deepface in c:\\users\\rizka\\onedrive\\desktop\\python\\lib\\site-packages (0.0.93)\n",
      "Requirement already satisfied: requests>=2.27.1 in c:\\users\\rizka\\onedrive\\desktop\\python\\lib\\site-packages (from deepface) (2.32.3)\n",
      "Requirement already satisfied: Pillow>=5.2.0 in c:\\users\\rizka\\onedrive\\desktop\\python\\lib\\site-packages (from deepface) (11.0.0)\n",
      "Requirement already satisfied: tqdm>=4.30.0 in c:\\users\\rizka\\onedrive\\desktop\\python\\lib\\site-packages (from deepface) (4.66.6)\n",
      "Requirement already satisfied: gdown>=3.10.1 in c:\\users\\rizka\\onedrive\\desktop\\python\\lib\\site-packages (from deepface) (5.2.0)\n",
      "Requirement already satisfied: opencv-python>=4.5.5.64 in c:\\users\\rizka\\onedrive\\desktop\\python\\lib\\site-packages (from deepface) (4.10.0.84)\n",
      "Requirement already satisfied: Flask>=1.1.2 in c:\\users\\rizka\\onedrive\\desktop\\python\\lib\\site-packages (from deepface) (3.0.3)\n",
      "Requirement already satisfied: mtcnn>=0.1.0 in c:\\users\\rizka\\onedrive\\desktop\\python\\lib\\site-packages (from deepface) (1.0.0)\n",
      "Requirement already satisfied: tensorflow>=1.9.0 in c:\\users\\rizka\\onedrive\\desktop\\python\\lib\\site-packages (from deepface) (2.18.0)\n",
      "Requirement already satisfied: retina-face>=0.0.1 in c:\\users\\rizka\\onedrive\\desktop\\python\\lib\\site-packages (from deepface) (0.0.17)\n",
      "Requirement already satisfied: keras>=2.2.0 in c:\\users\\rizka\\onedrive\\desktop\\python\\lib\\site-packages (from deepface) (3.6.0)\n",
      "Requirement already satisfied: fire>=0.4.0 in c:\\users\\rizka\\onedrive\\desktop\\python\\lib\\site-packages (from deepface) (0.7.0)\n",
      "Requirement already satisfied: gunicorn>=20.1.0 in c:\\users\\rizka\\onedrive\\desktop\\python\\lib\\site-packages (from deepface) (23.0.0)\n",
      "Requirement already satisfied: flask-cors>=4.0.1 in c:\\users\\rizka\\onedrive\\desktop\\python\\lib\\site-packages (from deepface) (5.0.0)\n",
      "Requirement already satisfied: pandas>=0.23.4 in c:\\users\\rizka\\onedrive\\desktop\\python\\lib\\site-packages (from deepface) (2.2.3)\n",
      "Requirement already satisfied: numpy>=1.14.0 in c:\\users\\rizka\\onedrive\\desktop\\python\\lib\\site-packages (from deepface) (2.0.2)\n",
      "Requirement already satisfied: termcolor in c:\\users\\rizka\\onedrive\\desktop\\python\\lib\\site-packages (from fire>=0.4.0->deepface) (2.5.0)\n",
      "Requirement already satisfied: itsdangerous>=2.1.2 in c:\\users\\rizka\\onedrive\\desktop\\python\\lib\\site-packages (from Flask>=1.1.2->deepface) (2.2.0)\n",
      "Requirement already satisfied: blinker>=1.6.2 in c:\\users\\rizka\\onedrive\\desktop\\python\\lib\\site-packages (from Flask>=1.1.2->deepface) (1.8.2)\n",
      "Requirement already satisfied: click>=8.1.3 in c:\\users\\rizka\\onedrive\\desktop\\python\\lib\\site-packages (from Flask>=1.1.2->deepface) (8.1.7)\n",
      "Requirement already satisfied: Werkzeug>=3.0.0 in c:\\users\\rizka\\onedrive\\desktop\\python\\lib\\site-packages (from Flask>=1.1.2->deepface) (3.1.1)\n",
      "Requirement already satisfied: Jinja2>=3.1.2 in c:\\users\\rizka\\onedrive\\desktop\\python\\lib\\site-packages (from Flask>=1.1.2->deepface) (3.1.4)\n",
      "Requirement already satisfied: colorama in c:\\users\\rizka\\onedrive\\desktop\\python\\lib\\site-packages (from click>=8.1.3->Flask>=1.1.2->deepface) (0.4.6)\n",
      "Requirement already satisfied: beautifulsoup4 in c:\\users\\rizka\\onedrive\\desktop\\python\\lib\\site-packages (from gdown>=3.10.1->deepface) (4.12.3)\n",
      "Requirement already satisfied: filelock in c:\\users\\rizka\\onedrive\\desktop\\python\\lib\\site-packages (from gdown>=3.10.1->deepface) (3.16.1)\n",
      "Requirement already satisfied: packaging in c:\\users\\rizka\\onedrive\\desktop\\python\\lib\\site-packages (from gunicorn>=20.1.0->deepface) (24.1)\n",
      "Requirement already satisfied: MarkupSafe>=2.0 in c:\\users\\rizka\\onedrive\\desktop\\python\\lib\\site-packages (from Jinja2>=3.1.2->Flask>=1.1.2->deepface) (3.0.2)\n",
      "Requirement already satisfied: rich in c:\\users\\rizka\\onedrive\\desktop\\python\\lib\\site-packages (from keras>=2.2.0->deepface) (13.9.4)\n",
      "Requirement already satisfied: absl-py in c:\\users\\rizka\\onedrive\\desktop\\python\\lib\\site-packages (from keras>=2.2.0->deepface) (2.1.0)\n",
      "Requirement already satisfied: ml-dtypes in c:\\users\\rizka\\onedrive\\desktop\\python\\lib\\site-packages (from keras>=2.2.0->deepface) (0.4.1)\n",
      "Requirement already satisfied: optree in c:\\users\\rizka\\onedrive\\desktop\\python\\lib\\site-packages (from keras>=2.2.0->deepface) (0.13.0)\n",
      "Requirement already satisfied: namex in c:\\users\\rizka\\onedrive\\desktop\\python\\lib\\site-packages (from keras>=2.2.0->deepface) (0.0.8)\n",
      "Requirement already satisfied: h5py in c:\\users\\rizka\\onedrive\\desktop\\python\\lib\\site-packages (from keras>=2.2.0->deepface) (3.12.1)\n",
      "Requirement already satisfied: lz4>=4.3.3 in c:\\users\\rizka\\onedrive\\desktop\\python\\lib\\site-packages (from mtcnn>=0.1.0->deepface) (4.3.3)\n",
      "Requirement already satisfied: joblib>=1.4.2 in c:\\users\\rizka\\onedrive\\desktop\\python\\lib\\site-packages (from mtcnn>=0.1.0->deepface) (1.4.2)\n",
      "Requirement already satisfied: tzdata>=2022.7 in c:\\users\\rizka\\onedrive\\desktop\\python\\lib\\site-packages (from pandas>=0.23.4->deepface) (2024.2)\n",
      "Requirement already satisfied: pytz>=2020.1 in c:\\users\\rizka\\onedrive\\desktop\\python\\lib\\site-packages (from pandas>=0.23.4->deepface) (2024.2)\n",
      "Requirement already satisfied: python-dateutil>=2.8.2 in c:\\users\\rizka\\onedrive\\desktop\\python\\lib\\site-packages (from pandas>=0.23.4->deepface) (2.9.0.post0)\n",
      "Requirement already satisfied: six>=1.5 in c:\\users\\rizka\\onedrive\\desktop\\python\\lib\\site-packages (from python-dateutil>=2.8.2->pandas>=0.23.4->deepface) (1.16.0)\n",
      "Requirement already satisfied: charset-normalizer<4,>=2 in c:\\users\\rizka\\onedrive\\desktop\\python\\lib\\site-packages (from requests>=2.27.1->deepface) (3.4.0)\n",
      "Requirement already satisfied: urllib3<3,>=1.21.1 in c:\\users\\rizka\\onedrive\\desktop\\python\\lib\\site-packages (from requests>=2.27.1->deepface) (2.2.3)\n",
      "Requirement already satisfied: idna<4,>=2.5 in c:\\users\\rizka\\onedrive\\desktop\\python\\lib\\site-packages (from requests>=2.27.1->deepface) (3.10)\n",
      "Requirement already satisfied: certifi>=2017.4.17 in c:\\users\\rizka\\onedrive\\desktop\\python\\lib\\site-packages (from requests>=2.27.1->deepface) (2024.8.30)\n",
      "Requirement already satisfied: tensorflow-intel==2.18.0 in c:\\users\\rizka\\onedrive\\desktop\\python\\lib\\site-packages (from tensorflow>=1.9.0->deepface) (2.18.0)\n",
      "Requirement already satisfied: astunparse>=1.6.0 in c:\\users\\rizka\\onedrive\\desktop\\python\\lib\\site-packages (from tensorflow-intel==2.18.0->tensorflow>=1.9.0->deepface) (1.6.3)\n",
      "Requirement already satisfied: google-pasta>=0.1.1 in c:\\users\\rizka\\onedrive\\desktop\\python\\lib\\site-packages (from tensorflow-intel==2.18.0->tensorflow>=1.9.0->deepface) (0.2.0)\n",
      "Requirement already satisfied: protobuf!=4.21.0,!=4.21.1,!=4.21.2,!=4.21.3,!=4.21.4,!=4.21.5,<6.0.0dev,>=3.20.3 in c:\\users\\rizka\\onedrive\\desktop\\python\\lib\\site-packages (from tensorflow-intel==2.18.0->tensorflow>=1.9.0->deepface) (5.28.3)\n",
      "Requirement already satisfied: opt-einsum>=2.3.2 in c:\\users\\rizka\\onedrive\\desktop\\python\\lib\\site-packages (from tensorflow-intel==2.18.0->tensorflow>=1.9.0->deepface) (3.4.0)\n",
      "Requirement already satisfied: flatbuffers>=24.3.25 in c:\\users\\rizka\\onedrive\\desktop\\python\\lib\\site-packages (from tensorflow-intel==2.18.0->tensorflow>=1.9.0->deepface) (24.3.25)\n",
      "Requirement already satisfied: libclang>=13.0.0 in c:\\users\\rizka\\onedrive\\desktop\\python\\lib\\site-packages (from tensorflow-intel==2.18.0->tensorflow>=1.9.0->deepface) (18.1.1)\n",
      "Requirement already satisfied: typing-extensions>=3.6.6 in c:\\users\\rizka\\onedrive\\desktop\\python\\lib\\site-packages (from tensorflow-intel==2.18.0->tensorflow>=1.9.0->deepface) (4.12.2)\n",
      "Requirement already satisfied: wrapt>=1.11.0 in c:\\users\\rizka\\onedrive\\desktop\\python\\lib\\site-packages (from tensorflow-intel==2.18.0->tensorflow>=1.9.0->deepface) (1.16.0)\n",
      "Requirement already satisfied: grpcio<2.0,>=1.24.3 in c:\\users\\rizka\\onedrive\\desktop\\python\\lib\\site-packages (from tensorflow-intel==2.18.0->tensorflow>=1.9.0->deepface) (1.67.1)\n",
      "Requirement already satisfied: gast!=0.5.0,!=0.5.1,!=0.5.2,>=0.2.1 in c:\\users\\rizka\\onedrive\\desktop\\python\\lib\\site-packages (from tensorflow-intel==2.18.0->tensorflow>=1.9.0->deepface) (0.6.0)\n",
      "Requirement already satisfied: tensorflow-io-gcs-filesystem>=0.23.1 in c:\\users\\rizka\\onedrive\\desktop\\python\\lib\\site-packages (from tensorflow-intel==2.18.0->tensorflow>=1.9.0->deepface) (0.31.0)\n",
      "Requirement already satisfied: setuptools in c:\\users\\rizka\\onedrive\\desktop\\python\\lib\\site-packages (from tensorflow-intel==2.18.0->tensorflow>=1.9.0->deepface) (58.1.0)\n",
      "Requirement already satisfied: tensorboard<2.19,>=2.18 in c:\\users\\rizka\\onedrive\\desktop\\python\\lib\\site-packages (from tensorflow-intel==2.18.0->tensorflow>=1.9.0->deepface) (2.18.0)\n",
      "Requirement already satisfied: wheel<1.0,>=0.23.0 in c:\\users\\rizka\\onedrive\\desktop\\python\\lib\\site-packages (from astunparse>=1.6.0->tensorflow-intel==2.18.0->tensorflow>=1.9.0->deepface) (0.44.0)\n",
      "Requirement already satisfied: markdown>=2.6.8 in c:\\users\\rizka\\onedrive\\desktop\\python\\lib\\site-packages (from tensorboard<2.19,>=2.18->tensorflow-intel==2.18.0->tensorflow>=1.9.0->deepface) (3.7)\n",
      "Requirement already satisfied: tensorboard-data-server<0.8.0,>=0.7.0 in c:\\users\\rizka\\onedrive\\desktop\\python\\lib\\site-packages (from tensorboard<2.19,>=2.18->tensorflow-intel==2.18.0->tensorflow>=1.9.0->deepface) (0.7.2)\n",
      "Requirement already satisfied: soupsieve>1.2 in c:\\users\\rizka\\onedrive\\desktop\\python\\lib\\site-packages (from beautifulsoup4->gdown>=3.10.1->deepface) (2.6)\n",
      "Requirement already satisfied: PySocks!=1.5.7,>=1.5.6 in c:\\users\\rizka\\onedrive\\desktop\\python\\lib\\site-packages (from requests>=2.27.1->deepface) (1.7.1)\n",
      "Requirement already satisfied: pygments<3.0.0,>=2.13.0 in c:\\users\\rizka\\onedrive\\desktop\\python\\lib\\site-packages (from rich->keras>=2.2.0->deepface) (2.18.0)\n",
      "Requirement already satisfied: markdown-it-py>=2.2.0 in c:\\users\\rizka\\onedrive\\desktop\\python\\lib\\site-packages (from rich->keras>=2.2.0->deepface) (3.0.0)\n",
      "Requirement already satisfied: mdurl~=0.1 in c:\\users\\rizka\\onedrive\\desktop\\python\\lib\\site-packages (from markdown-it-py>=2.2.0->rich->keras>=2.2.0->deepface) (0.1.2)\n"
     ]
    }
   ],
   "source": [
    "!pip install deepface"
   ]
  },
  {
   "cell_type": "markdown",
   "metadata": {
    "id": "ZHpIvRzhv34s"
   },
   "source": [
    "The following code defines a function called face_verification, which uses the DeepFace library to verify whether two face images belong to the same person. Here’s a brief breakdown of the code:\n",
    "\n",
    "- Imports: The function imports the DeepFace class from the DeepFace library, which provides tools for face recognition and verification.\n",
    "\n",
    "- Function Definition: face_verification(image_path1, image_path2, model_name='VGG-Face', distance_metric='cosine') accepts two image paths as inputs along with optional parameters for the model name and distance metric. By default, it uses the 'VGG-Face' model and the 'cosine' distance metric.\n",
    "\n",
    "- Verification Process: The function calls DeepFace.verify, passing the two image paths and specified parameters. This function performs the face verification and returns a result dictionary containing details such as the distance between embeddings and whether the two images are verified as the same person.\n",
    "\n",
    "- Extracting Results: It extracts the distance and verified values from the result. The distance indicates how similar the two faces are based on the embeddings, while verified is a boolean indicating if they are considered the same person.\n",
    "\n",
    "- Displaying Results: The function checks the verified value:\n",
    "If True, it prints a success message with the distance and the verification threshold. If False, it prints a failure message with the distance and the threshold.\n",
    "\n",
    "- Return Value: Finally, the function returns True if the verification is successful and False otherwise as well as calculated distance."
   ]
  },
  {
   "cell_type": "code",
   "execution_count": 40,
   "metadata": {},
   "outputs": [],
   "source": [
    "import warnings\n",
    "warnings.filterwarnings('ignore')"
   ]
  },
  {
   "cell_type": "code",
   "execution_count": 68,
   "metadata": {
    "id": "pp__kiXfN4o3",
    "scrolled": true
   },
   "outputs": [],
   "source": [
    "from deepface import DeepFace\n",
    "\n",
    "def face_verification(image_path1, image_path2, model_name='VGG-Face', distance_metric='cosine'):\n",
    "    # Use DeepFace's built-in verification and distance metric\n",
    "    result = DeepFace.verify(image_path1, \n",
    "                             image_path2, \n",
    "                             model_name=model_name, \n",
    "                             distance_metric=distance_metric, \n",
    "                             enforce_detection=False)\n",
    "\n",
    "    # Extract the relevant details\n",
    "    dist = result['distance']\n",
    "    verified = result['verified']\n",
    "\n",
    "    # Display results\n",
    "    if verified:\n",
    "        print(f\"Verification successful. Distance: {dist:.2f} (Threshold: {result['threshold']})\")\n",
    "    else:\n",
    "        print(f\"Verification not successful. Distance: {dist:.2f} (Threshold: {result['threshold']})\")\n",
    "\n",
    "    # Return both verification result and distance\n",
    "    return verified, dist"
   ]
  },
  {
   "cell_type": "markdown",
   "metadata": {
    "id": "Z9QgrUPZw0ri"
   },
   "source": [
    "## Graded Cell: Building a Database of Individuals [10 points]\n",
    "Create a database of individuals:\n",
    "\n",
    "- Collect Images of Individuals: Gather images of **at least 5** individuals whose face embeddings you want to include in the database. Ensure that the images are of good quality and contain only the face of the individual without any obstructions.\n",
    "\n",
    "- Add Entries to the Database: For each individual, use the individual's name as the key and the image path as value.\n",
    "\n",
    "- Repeat for Each Individual: Repeat the process for each individual whose identities you want to include in the database."
   ]
  },
  {
   "cell_type": "code",
   "execution_count": 48,
   "metadata": {
    "id": "395S-kSOOfEG"
   },
   "outputs": [],
   "source": [
    "## Create the database\n",
    "database = {}\n",
    "\n",
    "database = {\n",
    "    #\"trump\": \"/content/trump.jpg\",\n",
    "    # Add more identities and paths as needed\n",
    "    \"Anne Hathaway\": \"AnneHathawayPortrait.jpg\",\n",
    "    \"Harry Styles\": \"HarryStylesPortrait.jpg\",\n",
    "    \"Heath Ledger\": \"HeathLedgerPortrait.jpg\",\n",
    "    \"Julia Roberts\": \"JuliaRobersPortrait.jpg\",\n",
    "    \"Robert Downey Jr\": \"RobertDowneyJrPortrait.jpg\",\n",
    "    \"Selena Gomez\": \"SelenaGomezPortrait.jpg\"\n",
    "}\n"
   ]
  },
  {
   "cell_type": "markdown",
   "metadata": {
    "id": "Qs1lytTDyZqP"
   },
   "source": [
    "## Graded Cell: Face Recognition System [35 points]\n",
    "\n",
    "The face_recognition function is designed to identify a person in a given image by comparing it with images stored in a database.\n",
    "\n",
    "Parameters:\n",
    "\n",
    "- image_path: A string representing the path to the image to be recognized.\n",
    "- database: A dictionary where the keys are identities (names of individuals) and the values are the paths to their corresponding known images.\n",
    "- model_name: A string specifying the model to use for generating embeddings (default is 'VGG-Face').\n",
    "- distance_metric: A string indicating the metric to calculate distance (options include 'cosine', 'euclidean', etc.).\n",
    "\n",
    "Returns:\n",
    "\n",
    "A string representing the identity of the recognized person or \"Unknown\" if no match is found.\n",
    "\n",
    "The function iterates through the database, using a face verification method to compare the input image with each known image. If a match is found, it returns the identity of the recognized person; otherwise, it returns \"Unknown.\""
   ]
  },
  {
   "cell_type": "code",
   "execution_count": 54,
   "metadata": {
    "id": "QXEBH05mPMfD"
   },
   "outputs": [],
   "source": [
    "from deepface import DeepFace\n",
    "\n",
    "def face_recognition(image_path, database, model_name='VGG-Face', distance_metric='cosine', threshold=0.68):\n",
    "    \"\"\"\n",
    "    Performs face recognition to identify the person in the given image by comparing it with images in the database.\n",
    "\n",
    "    Parameters:\n",
    "    - image_path: str, path to the image to be recognized\n",
    "    - database: dict, where keys are identities and values are the paths to their known images\n",
    "    - model_name: str, the model to use for generating embeddings (default is 'VGG-Face')\n",
    "    - distance_metric: str, the metric to calculate distance ('cosine', 'euclidean', etc.)\n",
    "    - threshold: float, the threshold for verification (default is 0.68)\n",
    "\n",
    "    Returns:\n",
    "    - str: the identity of the recognized person, or \"Unknown\" if no match is found\n",
    "    \"\"\"\n",
    "    recognized_identity = \"Unknown\"\n",
    "    min_distance = float('inf')  # Initialize with a large value\n",
    "\n",
    "    # Loop through the database to verify each identity\n",
    "    for identity, known_image_path in database.items():\n",
    "        try:\n",
    "            # Verify the input image against the known image using DeepFace\n",
    "            result = DeepFace.verify(\n",
    "                img1_path=image_path,\n",
    "                img2_path=known_image_path,\n",
    "                model_name=model_name,\n",
    "                distance_metric=distance_metric,\n",
    "                enforce_detection=False\n",
    "            )\n",
    "\n",
    "            # Extract distance and verification result\n",
    "            distance = result['distance']\n",
    "            verified = result['verified']\n",
    "\n",
    "            # Check if the match is verified and the distance is below the threshold\n",
    "            if verified and distance < min_distance:\n",
    "                min_distance = distance\n",
    "                recognized_identity = identity\n",
    "\n",
    "        except Exception as e:\n",
    "            print(f\"Error processing {identity}: {str(e)}\")\n",
    "\n",
    "    return recognized_identity"
   ]
  },
  {
   "cell_type": "markdown",
   "metadata": {
    "id": "A0Ofv_GH1Iww"
   },
   "source": [
    "## Graded Cells: Testing the Face Verification System [5 points]\n",
    "Evaluate the verification system's performance by testing it on three distinct sample test images. These images should belong to individuals already present in the database but must be different from the ones used in the database."
   ]
  },
  {
   "cell_type": "code",
   "execution_count": 65,
   "metadata": {},
   "outputs": [
    {
     "name": "stdout",
     "output_type": "stream",
     "text": [
      "Error occurred: module 'deepface.modules.modeling' has no attribute 'build_model'\n"
     ]
    }
   ],
   "source": [
    "from deepface import DeepFace\n",
    "\n",
    "\n",
    "def face_verification(image_path1, image_path2, model_name='VGG-Face', distance_metric='cosine'):\n",
    "    try:\n",
    "        # Use DeepFace's verification method\n",
    "        result = DeepFace.verify(\n",
    "            img1_path=image_path1, \n",
    "            img2_path=image_path2, \n",
    "            model_name=model_name, \n",
    "            distance_metric=distance_metric, \n",
    "            enforce_detection=False\n",
    "        )\n",
    "\n",
    "        dist = result['distance']\n",
    "        verified = result['verified']\n",
    "\n",
    "        if verified:\n",
    "            print(f\"Verification successful. Distance: {dist:.2f} (Threshold: {result['threshold']})\")\n",
    "        else:\n",
    "            print(f\"Verification not successful. Distance: {dist:.2f} (Threshold: {result['threshold']})\")\n",
    "\n",
    "        return verified, dist\n",
    "    except Exception as e:\n",
    "        print(f\"Error occurred: {e}\")\n",
    "        return None, None\n",
    "\n",
    "# Test 1\n",
    "image1_test1 = \"AnneHathawayTest.jpg\"  # Test image\n",
    "image2_test1 = \"AnneHathawayPortrait.jpg\"  # Known image in database\n",
    "\n",
    "# Run the verification\n",
    "verified, dist = face_verification(image1_test1, image2_test1)\n"
   ]
  },
  {
   "cell_type": "code",
   "execution_count": null,
   "metadata": {
    "id": "LkMneM_V1KLs"
   },
   "outputs": [],
   "source": [
    "# Test 1\n",
    "image_path1 = \"AnneHathawayTest.jpg\"  # Test image\n",
    "image_path2 = \"AnneHathawayPortrait.jpg\"  # Known image in database\n",
    "#verified, dist = face_verification(image_path1, image_path2)\n",
    "DeepFace.Verify(image1_path=image_path1, image2_path=image_path2)"
   ]
  },
  {
   "cell_type": "code",
   "execution_count": null,
   "metadata": {
    "id": "w82gqNAp1Mms"
   },
   "outputs": [],
   "source": []
  },
  {
   "cell_type": "code",
   "execution_count": 32,
   "metadata": {
    "id": "T_wVbXRI1N1P"
   },
   "outputs": [
    {
     "name": "stdout",
     "output_type": "stream",
     "text": [
      "Error processing Anne Hathaway: module 'deepface.modules.modeling' has no attribute 'build_model'\n",
      "Error processing Harry Styles: module 'deepface.modules.modeling' has no attribute 'build_model'\n",
      "Error processing Heath Ledger: module 'deepface.modules.modeling' has no attribute 'build_model'\n",
      "Error processing Julia Roberts: module 'deepface.modules.modeling' has no attribute 'build_model'\n",
      "Error processing Robert Downey Jr: module 'deepface.modules.modeling' has no attribute 'build_model'\n",
      "Error processing Selena Gomez: module 'deepface.modules.modeling' has no attribute 'build_model'\n",
      "Recognized Identity: Unknown\n"
     ]
    }
   ],
   "source": [
    "# Test 3\n",
    "# Assuming the test image is named \"SelenaGomezTest.jpg\" and located in the same directory\n",
    "image1_test2 = \"SelenaGomezTest.jpg\"  # Test image\n",
    "image2_test2 = \"SelenaGomezPortrait.jpg\"  # Known image in database\n",
    "face_verification(image1_test2, image2_test2)"
   ]
  },
  {
   "cell_type": "markdown",
   "metadata": {
    "id": "rNynSNsgyuhC"
   },
   "source": [
    "## Graded Cells: Testing the Face Recognition System [5 points]\n",
    "\n",
    "Evaluate the recognition system's performance by testing it on three distinct sample test images. These images should belong to individuals already present in the database but must be different from the ones used in the database."
   ]
  },
  {
   "cell_type": "code",
   "execution_count": 39,
   "metadata": {
    "id": "sHJ7ig7cPdwT"
   },
   "outputs": [
    {
     "name": "stdout",
     "output_type": "stream",
     "text": [
      "Error processing Anne Hathaway: module 'deepface.modules.modeling' has no attribute 'build_model'\n",
      "Error processing Harry Styles: module 'deepface.modules.modeling' has no attribute 'build_model'\n",
      "Error processing Heath Ledger: module 'deepface.modules.modeling' has no attribute 'build_model'\n",
      "Error processing Julia Roberts: module 'deepface.modules.modeling' has no attribute 'build_model'\n",
      "Error processing Robert Downey Jr: module 'deepface.modules.modeling' has no attribute 'build_model'\n",
      "Error processing Selena Gomez: module 'deepface.modules.modeling' has no attribute 'build_model'\n",
      "Recognized Identity: Unknown\n"
     ]
    }
   ],
   "source": [
    "# Test 1\n",
    "test_image_path = \"JuliaRobertsTest.jpg\"\n",
    "identity = face_recognition(test_image_path, database)\n",
    "print(f\"Recognized Identity: {identity}\")"
   ]
  },
  {
   "cell_type": "code",
   "execution_count": null,
   "metadata": {
    "id": "Kh4yChRry5Xa"
   },
   "outputs": [],
   "source": [
    "# Test 2\n",
    "test_image_path = \"HeathLedgerTest.jpg\"\n",
    "identity = face_recognition(test_image_path, database)\n",
    "print(f\"Recognized Identity: {identity}\")"
   ]
  },
  {
   "cell_type": "code",
   "execution_count": null,
   "metadata": {
    "id": "80AulfUEy623"
   },
   "outputs": [],
   "source": [
    "# Test 3\n",
    "test_image_path = \"HarryStylesTest.jpg\"\n",
    "identity = face_recognition(test_image_path, database)\n",
    "print(f\"Recognized Identity: {identity}\")"
   ]
  },
  {
   "cell_type": "markdown",
   "metadata": {
    "id": "7Qqzul32y-9U"
   },
   "source": [
    "## Graded Cells: Comparison of Different Models [35 points]\n",
    "\n",
    "Compare the performance of various pre-trained models (e.g., VGG-Face, Facenet, ArcFace) on the 5 images in the database. Evaluate the models based on metrics such as accuracy, average distance, and processing time. You can use either Euclidean or cosine similarity as distance metric."
   ]
  },
  {
   "cell_type": "code",
   "execution_count": null,
   "metadata": {
    "id": "_Uwl4-a4zwO7"
   },
   "outputs": [],
   "source": []
  },
  {
   "cell_type": "markdown",
   "metadata": {
    "id": "NKHyLMBwzyWo"
   },
   "source": [
    "## Graded Cells: Conclusions [10 points]\n",
    "\n",
    "Draw conclusions regarding the effectiveness of different models used in your experiments. Consider factors such as accuracy, speed, and robustness."
   ]
  }
 ],
 "metadata": {
  "colab": {
   "provenance": []
  },
  "kernelspec": {
   "display_name": "Python 3 (ipykernel)",
   "language": "python",
   "name": "python3"
  },
  "language_info": {
   "codemirror_mode": {
    "name": "ipython",
    "version": 3
   },
   "file_extension": ".py",
   "mimetype": "text/x-python",
   "name": "python",
   "nbconvert_exporter": "python",
   "pygments_lexer": "ipython3",
   "version": "3.10.1"
  }
 },
 "nbformat": 4,
 "nbformat_minor": 4
}
